{
 "cells": [
  {
   "cell_type": "code",
   "execution_count": 25,
   "metadata": {},
   "outputs": [],
   "source": [
    "from glob import glob\n",
    "from IPython.display import Image, display"
   ]
  },
  {
   "cell_type": "code",
   "execution_count": 34,
   "metadata": {},
   "outputs": [
    {
     "name": "stdout",
     "output_type": "stream",
     "text": [
      "texts/Mike_and_Psmith.txt\n",
      "texts/The_Head_of_Kay's.txt\n",
      "texts/Right_Ho,_Jeeves.txt\n",
      "texts/The_Prince_and_Betty.txt\n",
      "texts/Tales_of_St._Austin's.txt\n",
      "texts/My_Man_Jeeves.txt\n",
      "texts/The_Gem_Collector.txt\n",
      "texts/Uneasy_Money.txt\n",
      "texts/The_White_Feather.txt\n",
      "texts/The_Clicking_of_Cuthbert.txt\n",
      "texts/Something_New.txt\n",
      "texts/Not_George_Washington_—_an_Autobiographical_Novel.txt\n",
      "texts/A_Man_of_Means.txt\n",
      "texts/The_Man_with_Two_Left_Feet,_and_Other_Stories.txt\n",
      "texts/A_Damsel_in_Distress.txt\n",
      "texts/Psmith_in_the_City.txt\n",
      "texts/Piccadilly_Jim.txt\n",
      "texts/Love_Among_the_Chickens.txt\n",
      "texts/Three_Men_and_a_Maid.txt\n",
      "texts/The_Girl_on_the_Boat.txt\n",
      "texts/A_Prefect's_Uncle.txt\n",
      "texts/Death_at_the_Excelsior,_and_Other_Stories.txt\n",
      "texts/Mike.txt\n",
      "texts/A_Wodehouse_Miscellany:_Articles_&_Stories.txt\n",
      "texts/The_Pothunters.txt\n",
      "texts/The_Politeness_of_Princes,_and_Other_School_Stories.txt\n",
      "texts/Psmith,_Journalist.txt\n",
      "texts/The_Little_Warrior.txt\n",
      "texts/William_Tell_Told_Again.txt\n",
      "texts/The_Coming_of_Bill.txt\n",
      "texts/The_Intrusion_of_Jimmy.txt\n",
      "texts/Jill_the_Reckless.txt\n",
      "texts/Indiscretions_of_Archie.txt\n",
      "texts/The_Swoop!_or,_How_Clarence_Saved_England:_A_Tale_of_the_Great_Invasion.txt\n",
      "texts/The_Little_Nugget.txt\n",
      "texts/The_Adventures_of_Sally.txt\n",
      "texts/The_Man_Upstairs_and_Other_Stories.txt\n",
      "texts/The_Inimitable_Jeeves.txt\n",
      "texts/The_Gold_Bat.txt\n"
     ]
    }
   ],
   "source": [
    "text = \"\"\n",
    "\n",
    "for fileName in glob('texts/*.txt'):\n",
    "    print(fileName)\n",
    "    file = open(fileName, 'r')\n",
    "    data = file.read()\n",
    "    #remove Gutenbert material, which is inconsistent\n",
    "    try:\n",
    "        data = data.split('CONTENTS', 1)[1]\n",
    "    except IndexError:\n",
    "        continue\n",
    "    data = data.split('*** END OF', 1)[0]\n",
    "    text = text + data"
   ]
  },
  {
   "cell_type": "code",
   "execution_count": 37,
   "metadata": {},
   "outputs": [],
   "source": [
    "data_file = open('PGW.txt', 'w')\n",
    "data_file.write(text)\n",
    "data_file.close()"
   ]
  },
  {
   "cell_type": "code",
   "execution_count": 22,
   "metadata": {},
   "outputs": [],
   "source": [
    "# file_name = \"texts/Mike_and_Psmith.txt\"\n",
    "# file = open(file_name, 'r')\n",
    "# data = file.read()\n",
    "# #remove project gutenberg stuff\n",
    "# data = data.split('CONTENTS', 1)[1]\n",
    "# data = data.split('*** END OF', 1)[0]"
   ]
  }
 ],
 "metadata": {
  "kernelspec": {
   "display_name": "Python 3",
   "language": "python",
   "name": "python3"
  },
  "language_info": {
   "codemirror_mode": {
    "name": "ipython",
    "version": 3
   },
   "file_extension": ".py",
   "mimetype": "text/x-python",
   "name": "python",
   "nbconvert_exporter": "python",
   "pygments_lexer": "ipython3",
   "version": "3.7.7"
  }
 },
 "nbformat": 4,
 "nbformat_minor": 4
}
